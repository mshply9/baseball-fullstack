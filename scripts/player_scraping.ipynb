{
 "cells": [
  {
   "cell_type": "code",
   "execution_count": 1,
   "id": "a1596a30-1456-40f9-a9b8-296f5dd54138",
   "metadata": {},
   "outputs": [],
   "source": [
    "import pandas as pd\n",
    "from selenium import webdriver\n",
    "from selenium.webdriver.common.by import By # used to import different ways to access data in the XML or HTML file\n",
    "from selenium.webdriver.chrome.service import Service # no longer need to download a driver file, use service\n",
    "from selenium.webdriver.support.ui import WebDriverWait\n",
    "from selenium.webdriver.support import expected_conditions as EC\n",
    "from selenium.common.exceptions import TimeoutException\n",
    "from selenium.common.exceptions import NoSuchElementException\n",
    "\n",
    "from webdriver_manager.chrome import ChromeDriverManager # used to manage the Chrome driver to emulate a Chrome web browser\n",
    "\n",
    "import time\n",
    "import random"
   ]
  },
  {
   "cell_type": "code",
   "execution_count": 3,
   "id": "96ea4ea8-fd88-49c6-8809-e6d836dd4eaa",
   "metadata": {},
   "outputs": [],
   "source": [
    "# function to scroll from the top to the bottom of the web page\n",
    "def random_scroll(browser, total_wait_time):\n",
    "    # get the total height of the page\n",
    "    total_height = browser.execute_script(\"return document.body.scrollHeight\")\n",
    "    \n",
    "    # number of steps to scroll (you can adjust this number)\n",
    "    scroll_steps = random.randint(3, 10) # randomize how many scroll steps we will use\n",
    "    \n",
    "    # calculate the height to scroll on each step\n",
    "    scroll_increment = total_height // scroll_steps\n",
    "\n",
    "    # calculate the total time available for scrolling each step\n",
    "    time_per_step = total_wait_time / scroll_steps\n",
    "    \n",
    "    # random scrolling across time\n",
    "    for step in range(scroll_steps):\n",
    "        # scroll by the increment (dividing total height by number of steps)\n",
    "        browser.execute_script(f\"window.scrollBy(0, {scroll_increment});\")\n",
    "         # random wait time between scrolls to simulate varying speed\n",
    "        random_wait = random.uniform(0.5 * time_per_step, 1.5 * time_per_step)  # randomize the wait within a range\n",
    "        time.sleep(random_wait)\n",
    "        \n",
    "    # final scroll to make sure you are at the very bottom (in case it didn't exactly match)\n",
    "    browser.execute_script(\"window.scrollTo(0, document.body.scrollHeight);\")"
   ]
  },
  {
   "cell_type": "code",
   "execution_count": 13,
   "id": "f3261108-74eb-4c2c-b5aa-95df404683f1",
   "metadata": {},
   "outputs": [
    {
     "name": "stdout",
     "output_type": "stream",
     "text": [
      "Ryan Jeffers\n",
      "Position: Catcher\n",
      "Bats: Right  •  Throws: Right\n",
      "6-4, 235lb (193cm, 106kg)\n",
      "Team: Minnesota Twins (majors)\n",
      "\n",
      "More bio, uniform, draft, salary info\n"
     ]
    }
   ],
   "source": [
    "# Initialize WebDriver\n",
    "browser = webdriver.Chrome()\n",
    "\n",
    "url = 'https://www.baseball-reference.com/players/j/jeffery01.shtml'\n",
    "\n",
    "browser.get(url)\n",
    "browser.maximize_window()\n",
    "\n",
    "# add a random delay before scraping\n",
    "total_wait_time = random.uniform(5, 12)  # random wait time between 3 and 10 seconds\n",
    "\n",
    "# scrolling is spread over the total wait time\n",
    "random_scroll(browser, total_wait_time)\n",
    "\n",
    "# Locate the div using XPath\n",
    "try:\n",
    "    bio_div = browser.find_element(By.XPATH, \"//*[@id='meta']/div[2]\")\n",
    "    print(bio_div.text)  # Print the text content of the div\n",
    "except Exception as e:\n",
    "    print(f\"Error: {e}\")\n",
    "\n",
    "# Close the browser\n",
    "browser.quit()"
   ]
  },
  {
   "cell_type": "code",
   "execution_count": null,
   "id": "66084837-768c-43ad-ad33-334f85955c19",
   "metadata": {},
   "outputs": [],
   "source": [
    "   "
   ]
  }
 ],
 "metadata": {
  "kernelspec": {
   "display_name": "Python 3 (ipykernel)",
   "language": "python",
   "name": "python3"
  },
  "language_info": {
   "codemirror_mode": {
    "name": "ipython",
    "version": 3
   },
   "file_extension": ".py",
   "mimetype": "text/x-python",
   "name": "python",
   "nbconvert_exporter": "python",
   "pygments_lexer": "ipython3",
   "version": "3.12.3"
  }
 },
 "nbformat": 4,
 "nbformat_minor": 5
}
